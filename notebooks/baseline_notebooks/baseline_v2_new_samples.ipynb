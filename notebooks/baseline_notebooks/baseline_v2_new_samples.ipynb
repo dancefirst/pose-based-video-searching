{
 "cells": [
  {
   "cell_type": "markdown",
   "metadata": {},
   "source": [
    "## demo data v2\n",
    "\n",
    "```\n",
    "'samples/npy_v2\\\\aespa2_motion1_73_328.npy', 'samples/npy_v2\\\\aespa2_motion2_350_582.npy', 'samples/npy_v2\\\\aespa2_motion3_582_847.npy', 'samples/npy_v2\\\\aespa2_motion4_870_1120.npy', 'samples/npy_v2\\\\aespa2_motion5_1356_1507.npy', 'samples/npy_v2\\\\aespa4_motion1_66_328.npy', 'samples/npy_v2\\\\aespa4_motion2_349_583.npy', 'samples/npy_v2\\\\aespa4_motion3_583_845.npy', 'samples/npy_v2\\\\aespa4_motion4_866_1119.npy', 'samples/npy_v2\\\\aespa4_motion5_1345_1502.npy', 'samples/npy_v2\\\\bts2_motion3_1343_1714.npy', 'samples/npy_v2\\\\bts2_motion4_1716_1907.npy', 'samples/npy_v2\\\\bts3_motion3_1419_1789.npy', 'samples/npy_v2\\\\bts3_motion4_1790_2018.npy', 'samples/npy_v2\\\\itzy6_motion1_34_193.npy', 'samples/npy_v2\\\\itzy6_motion2_557_716.npy', 'samples/npy_v2\\\\itzy6_motion3_825_1088.npy', 'samples/npy_v2\\\\itzy7_motion1_25_196.npy', 'samples/npy_v2\\\\itzy7_motion2_550_708.npy', 'samples/npy_v2\\\\itzy7_motion3_820_1077.npy', 'samples/npy_v2\\\\jenny2_motion1_127_372.npy', 'samples/npy_v2\\\\jenny2_motion3_2400_2660.npy', 'samples/npy_v2\\\\jenny2_motion4_3373_3534.npy', 'samples/npy_v2\\\\jenny4_motion1_25_227.npy', 'samples/npy_v2\\\\jenny4_motion3_1775_2000.npy', 'samples/npy_v2\\\\jenny4_motion4_2730_2876.npy', 'samples/npy_v2\\\\twice3_motion1_13_211.npy', 'samples/npy_v2\\\\twice3_motion2_252_450.npy', 'samples/npy_v2\\\\twice3_motion3_460_683.npy', 'samples/npy_v2\\\\twice3_motion4_767_1018.npy', 'samples/npy_v2\\\\twice3_motion5_1025_1166.npy', 'samples/npy_v2\\\\twice5_motion1_19_226.npy', 'samples/npy_v2\\\\twice5_motion2_270_472.npy', 'samples/npy_v2\\\\twice5_motion3_484_712.npy', 'samples/npy_v2\\\\twice5_motion4_803_1065.npy', 'samples/npy_v2\\\\twice5_motion5_1074_1218.npy'\n",
    "```"
   ]
  },
  {
   "cell_type": "code",
   "execution_count": 2,
   "metadata": {},
   "outputs": [],
   "source": [
    "import os, sys\n",
    "from glob import glob\n",
    "import copy\n",
    "\n",
    "import numpy as np\n",
    "import pandas as pd\n",
    "from sklearn.preprocessing import StandardScaler, MaxAbsScaler, MinMaxScaler, RobustScaler\n",
    "\n",
    "import math\n",
    "from scipy import spatial\n",
    "from scipy.stats import kurtosis\n",
    "from scipy.stats import skew\n",
    "import vptree\n",
    "\n",
    "from matplotlib import pyplot as plt\n",
    "import seaborn as sns\n",
    "\n",
    "sys.path.insert(0, \"utils/\")\n",
    "from preprocess import make_outlier_index_dict, get_successive_groups,\\\n",
    "                        apply_outlier_interp, apply_one_euro_filter, rescale_by_bbox,\\\n",
    "                            pose_preprocess, pose_preprocess_v2, l2_norm\n",
    "from distance import weighted_distance_matching, simple_minus, simple_euc, simple_cosine, cosine_dist_xy_flatten#, euc_cosine_dist\n",
    "from feature_extract import extract_feature_svd\n",
    "from utils import summarize_vptree_result, rank_vptree_result, vptree_search\n",
    "from visualize import visualize_joints\n",
    "from object_type_conversion import object_type_conversion\n",
    "\n",
    "from visualize import multi_displot\n",
    "from one_euro_filter import LowPassFilter, OneEuroFilter, OneEuroFilterROMP\n",
    "from scipy.spatial.distance import cosine"
   ]
  },
  {
   "cell_type": "code",
   "execution_count": 3,
   "metadata": {},
   "outputs": [],
   "source": [
    "# base_dir = 'samples/npy/'\n",
    "# pose_paths = sorted(glob(os.path.join(base_dir,'*_pose.npy')))\n",
    "# bbox_paths = sorted(glob(os.path.join(base_dir,'*_bbox.npy')))\n",
    "\n",
    "# print(len(pose_paths), len(bbox_paths))\n",
    "\n",
    "# poses = [np.load(pose_paths[i], allow_pickle=True)[..., :2] for i in range(len(pose_paths))]\n",
    "# bboxes = [np.load(bbox_paths[i], allow_pickle=True) for i in range(len(bbox_paths))]\n",
    "\n",
    "# print(len(poses), len(bboxes))"
   ]
  },
  {
   "cell_type": "code",
   "execution_count": 4,
   "metadata": {},
   "outputs": [
    {
     "name": "stdout",
     "output_type": "stream",
     "text": [
      "36 35\n",
      "36\n"
     ]
    }
   ],
   "source": [
    "pose_dir = 'samples/npy_v2'\n",
    "bbox_dir = 'samples/npy'\n",
    "pose_paths = sorted(glob(os.path.join(pose_dir,'*.npy')))\n",
    "bbox_paths = sorted(glob(os.path.join(bbox_dir,'*_bbox.npy')))\n",
    "\n",
    "print(len(pose_paths), len(bbox_paths))\n",
    "\n",
    "poses = [np.load(pose_paths[i], allow_pickle=True)[..., :2] for i in range(len(pose_paths))]\n",
    "# bboxes = [np.load(bbox_paths[i], allow_pickle=True) for i in range(len(bbox_paths))]\n",
    "\n",
    "print(len(poses))"
   ]
  },
  {
   "cell_type": "code",
   "execution_count": 5,
   "metadata": {},
   "outputs": [
    {
     "name": "stdout",
     "output_type": "stream",
     "text": [
      "['samples/npy_v2\\\\aespa2_motion1_73_328.npy', 'samples/npy_v2\\\\aespa2_motion2_350_582.npy', 'samples/npy_v2\\\\aespa2_motion3_582_847.npy', 'samples/npy_v2\\\\aespa2_motion4_870_1120.npy', 'samples/npy_v2\\\\aespa2_motion5_1356_1507.npy', 'samples/npy_v2\\\\aespa4_motion1_66_328.npy', 'samples/npy_v2\\\\aespa4_motion2_349_583.npy', 'samples/npy_v2\\\\aespa4_motion3_583_845.npy', 'samples/npy_v2\\\\aespa4_motion4_866_1119.npy', 'samples/npy_v2\\\\aespa4_motion5_1345_1502.npy', 'samples/npy_v2\\\\bts2_motion3_1343_1714.npy', 'samples/npy_v2\\\\bts2_motion4_1716_1907.npy', 'samples/npy_v2\\\\bts3_motion3_1419_1789.npy', 'samples/npy_v2\\\\bts3_motion4_1790_2018.npy', 'samples/npy_v2\\\\itzy6_motion1_34_193.npy', 'samples/npy_v2\\\\itzy6_motion2_557_716.npy', 'samples/npy_v2\\\\itzy6_motion3_825_1088.npy', 'samples/npy_v2\\\\itzy7_motion1_25_196.npy', 'samples/npy_v2\\\\itzy7_motion2_550_708.npy', 'samples/npy_v2\\\\itzy7_motion3_820_1077.npy', 'samples/npy_v2\\\\jenny2_motion1_127_372.npy', 'samples/npy_v2\\\\jenny2_motion3_2400_2660.npy', 'samples/npy_v2\\\\jenny2_motion4_3373_3534.npy', 'samples/npy_v2\\\\jenny4_motion1_25_227.npy', 'samples/npy_v2\\\\jenny4_motion3_1775_2000.npy', 'samples/npy_v2\\\\jenny4_motion4_2730_2876.npy', 'samples/npy_v2\\\\twice3_motion1_13_211.npy', 'samples/npy_v2\\\\twice3_motion2_252_450.npy', 'samples/npy_v2\\\\twice3_motion3_460_683.npy', 'samples/npy_v2\\\\twice3_motion4_767_1018.npy', 'samples/npy_v2\\\\twice3_motion5_1025_1166.npy', 'samples/npy_v2\\\\twice5_motion1_19_226.npy', 'samples/npy_v2\\\\twice5_motion2_270_472.npy', 'samples/npy_v2\\\\twice5_motion3_484_712.npy', 'samples/npy_v2\\\\twice5_motion4_803_1065.npy', 'samples/npy_v2\\\\twice5_motion5_1074_1218.npy']\n"
     ]
    }
   ],
   "source": [
    "print(pose_paths)"
   ]
  },
  {
   "cell_type": "code",
   "execution_count": 6,
   "metadata": {},
   "outputs": [],
   "source": [
    "vid_motion_index = {}\n",
    "error_vidnames, error_indices = [], []\n",
    "\n",
    "pose_paths_new = []\n",
    "\n",
    "for i, pp in enumerate(pose_paths):\n",
    "    poselen = len(poses[i])\n",
    "\n",
    "    bname = os.path.basename(pp)\n",
    "    bname_split = bname.split('_')\n",
    "\n",
    "    vidname = bname_split[0]\n",
    "    motname= bname_split[1]\n",
    "    start_index = int(bname_split[2])\n",
    "    end_index = int(bname_split[3].split('.')[0])\n",
    "    if poselen == (end_index - start_index):\n",
    "        if vidname not in vid_motion_index:\n",
    "            vid_motion_index[vidname] = {}\n",
    "        if motname not in vid_motion_index[vidname]:\n",
    "            vid_motion_index[vidname][motname] = (start_index, end_index)\n",
    "        pose_paths_new.append(pp)\n",
    "    else:\n",
    "        error_vidnames.append((vidname, motname))\n",
    "        error_indices.append(i)\n",
    "        print(vidname, motname, poselen, end_index - start_index)\n",
    "\n",
    "    # if poselen != (end_index - start_index):"
   ]
  },
  {
   "cell_type": "code",
   "execution_count": 7,
   "metadata": {},
   "outputs": [
    {
     "data": {
      "text/plain": [
       "[]"
      ]
     },
     "execution_count": 7,
     "metadata": {},
     "output_type": "execute_result"
    }
   ],
   "source": [
    "error_vidnames"
   ]
  },
  {
   "cell_type": "code",
   "execution_count": 8,
   "metadata": {},
   "outputs": [
    {
     "data": {
      "text/plain": [
       "{'aespa2': {'motion1': (73, 328),\n",
       "  'motion2': (350, 582),\n",
       "  'motion3': (582, 847),\n",
       "  'motion4': (870, 1120),\n",
       "  'motion5': (1356, 1507)},\n",
       " 'aespa4': {'motion1': (66, 328),\n",
       "  'motion2': (349, 583),\n",
       "  'motion3': (583, 845),\n",
       "  'motion4': (866, 1119),\n",
       "  'motion5': (1345, 1502)},\n",
       " 'bts2': {'motion3': (1343, 1714), 'motion4': (1716, 1907)},\n",
       " 'bts3': {'motion3': (1419, 1789), 'motion4': (1790, 2018)},\n",
       " 'itzy6': {'motion1': (34, 193),\n",
       "  'motion2': (557, 716),\n",
       "  'motion3': (825, 1088)},\n",
       " 'itzy7': {'motion1': (25, 196),\n",
       "  'motion2': (550, 708),\n",
       "  'motion3': (820, 1077)},\n",
       " 'jenny2': {'motion1': (127, 372),\n",
       "  'motion3': (2400, 2660),\n",
       "  'motion4': (3373, 3534)},\n",
       " 'jenny4': {'motion1': (25, 227),\n",
       "  'motion3': (1775, 2000),\n",
       "  'motion4': (2730, 2876)},\n",
       " 'twice3': {'motion1': (13, 211),\n",
       "  'motion2': (252, 450),\n",
       "  'motion3': (460, 683),\n",
       "  'motion4': (767, 1018),\n",
       "  'motion5': (1025, 1166)},\n",
       " 'twice5': {'motion1': (19, 226),\n",
       "  'motion2': (270, 472),\n",
       "  'motion3': (484, 712),\n",
       "  'motion4': (803, 1065),\n",
       "  'motion5': (1074, 1218)}}"
      ]
     },
     "execution_count": 8,
     "metadata": {},
     "output_type": "execute_result"
    }
   ],
   "source": [
    "vid_motion_index"
   ]
  },
  {
   "cell_type": "code",
   "execution_count": 9,
   "metadata": {},
   "outputs": [
    {
     "name": "stdout",
     "output_type": "stream",
     "text": [
      "samples/npy\\aespa2_frames_bbox.npy\n",
      "motion1\n",
      "motion2\n",
      "motion3\n",
      "motion4\n",
      "motion5\n",
      "samples/npy\\aespa4_frames_bbox.npy\n",
      "motion1\n",
      "motion2\n",
      "motion3\n",
      "motion4\n",
      "motion5\n",
      "samples/npy\\bts2_frames_bbox.npy\n",
      "motion3\n",
      "motion4\n",
      "samples/npy\\bts3_frames_bbox.npy\n",
      "motion3\n",
      "motion4\n",
      "samples/npy\\itzy6_frames_bbox.npy\n",
      "motion1\n",
      "motion2\n",
      "motion3\n",
      "samples/npy\\itzy7_frames_bbox.npy\n",
      "motion1\n",
      "motion2\n",
      "motion3\n",
      "samples/npy\\jenny2_frames_bbox.npy\n",
      "motion1\n",
      "motion3\n",
      "motion4\n",
      "samples/npy\\jenny4_frames_bbox.npy\n",
      "motion1\n",
      "motion3\n",
      "motion4\n",
      "samples/npy\\twice3_frames_bbox.npy\n",
      "motion1\n",
      "motion2\n",
      "motion3\n",
      "motion4\n",
      "motion5\n",
      "samples/npy\\twice5_frames_bbox.npy\n",
      "motion1\n",
      "motion2\n",
      "motion3\n",
      "motion4\n",
      "motion5\n"
     ]
    }
   ],
   "source": [
    "bboxes = []\n",
    "\n",
    "for i, (vidname, motiondict) in enumerate(vid_motion_index.items()):\n",
    "    # print(vidname)\n",
    "    bbox_path = [bp for bp in bbox_paths if vidname in bp][0]\n",
    "    print(bbox_path)\n",
    "    bbox = np.load(bbox_path, allow_pickle=True)\n",
    "\n",
    "    if bbox.dtype == 'object':\n",
    "        bbox = object_type_conversion(bbox)\n",
    "\n",
    "    for motname, indices in motiondict.items():\n",
    "        print(motname)\n",
    "        bbox_slice = bbox[indices[0]:indices[1]]\n",
    "        # print(vidname, motname, bbox_slice.shape)\n",
    "        bboxes.append(bbox_slice)"
   ]
  },
  {
   "cell_type": "markdown",
   "metadata": {},
   "source": [
    "### visualize"
   ]
  },
  {
   "cell_type": "code",
   "execution_count": 11,
   "metadata": {},
   "outputs": [
    {
     "data": {
      "image/png": "[encoded data removed]",
      "text/plain": [
       "<Figure size 1080x360 with 5 Axes>"
      ]
     },
     "metadata": {
      "needs_background": "light"
     },
     "output_type": "display_data"
    }
   ],
   "source": [
    "visualize_joints(poses[0][...,:2].reshape(-1, 34), 13, 18)"
   ]
  },
  {
   "cell_type": "code",
   "execution_count": 12,
   "metadata": {},
   "outputs": [],
   "source": [
    "fnames = [f\"{os.path.basename(p).split('_')[0]}_{os.path.basename(p).split('_')[1]}\" for p in pose_paths]\n",
    "query_names = ['aespa2', 'bts2', 'itzy6', 'jenny2', 'twice3']\n",
    "matching_names = ['aespa4', 'bts3', 'itzy7', 'jenny4', 'twice5']\n",
    "\n",
    "query_index = [i for i, fn in enumerate(fnames) if fn.split('_')[0] in query_names]\n",
    "matching_index = [i for i, fn in enumerate(fnames) if fn.split('_')[0] in matching_names]\n",
    "\n",
    "query_poses = [p for i, p in enumerate(poses) if i in query_index]\n",
    "query_bboxes = [b for i, b in enumerate(bboxes) if i in query_index]\n",
    "query_fnames = [f for i, f in enumerate(fnames) if i in query_index]\n",
    "\n",
    "matching_poses = [p for i, p in enumerate(poses) if i in matching_index]\n",
    "matching_bboxes = [b for i, b in enumerate(bboxes) if i in matching_index]\n",
    "matching_fnames = [f for i, f in enumerate(fnames) if i in matching_index]"
   ]
  },
  {
   "cell_type": "code",
   "execution_count": 13,
   "metadata": {},
   "outputs": [
    {
     "data": {
      "text/plain": [
       "(18, 18, 18, 18, 18, 18)"
      ]
     },
     "execution_count": 13,
     "metadata": {},
     "output_type": "execute_result"
    }
   ],
   "source": [
    "len(query_poses), len(query_bboxes), len(matching_poses), len(matching_bboxes), len(query_fnames), len(matching_fnames)"
   ]
  },
  {
   "cell_type": "code",
   "execution_count": 14,
   "metadata": {},
   "outputs": [],
   "source": [
    "poses1_prep, poses1_prep_norm = [], []\n",
    "idx2vidname = {}\n",
    "\n",
    "def preprocess(poses, bboxes, fnames):\n",
    "    poses1_prep, poses1_prep_norm = [], []\n",
    "    for i, (pose_, bbox) in enumerate(zip(poses, bboxes)):\n",
    "        if len(pose_) != len(bbox):\n",
    "            print(i, fnames[i], 'different length', len(pose_), len(bbox))\n",
    "            continue\n",
    "\n",
    "        ppose = pose_[...,:2]\n",
    "        conf_score = pose_[...,-1]\n",
    "\n",
    "        # print(len(ppose), len(bbox))\n",
    "        \n",
    "        ppose_xy = pose_preprocess(ppose, bbox, normalize=False)\n",
    "        ppose_xy_norm = pose_preprocess(ppose, bbox, normalize=True)\n",
    "\n",
    "        ppose_conf = np.concatenate([ppose_xy, conf_score, \n",
    "                                    np.sum(conf_score, axis=1).reshape(-1,1),\n",
    "                                    np.array([i]*len(ppose)).reshape(-1,1)], axis=1) # add video unique index\n",
    "        poses1_prep.append(ppose_conf)\n",
    "        ########################################\n",
    "        ppose_conf_norm = np.concatenate([ppose_xy_norm, conf_score, \n",
    "                                    np.sum(conf_score, axis=1).reshape(-1,1),\n",
    "                                    np.array([i]*len(ppose)).reshape(-1,1)], axis=1) # add video unique index\n",
    "        poses1_prep_norm.append(ppose_conf_norm)\n",
    "\n",
    "        idx2vidname[i] = fnames[i]\n",
    "\n",
    "    return poses1_prep, poses1_prep_norm\n",
    "\n",
    "poses_prep, poses_prep_norm = preprocess(query_poses + matching_poses,\\\n",
    "                                         query_bboxes + matching_bboxes,\\\n",
    "                                            query_fnames + matching_fnames)\n",
    "\n",
    "query_poses_prep, query_poses_prep_norm = poses_prep[:len(poses_prep)//2], poses_prep_norm[:len(poses_prep)//2]\n",
    "matching_poses_prep, matching_poses_prep_norm = poses_prep[len(poses_prep)//2:], poses_prep_norm[len(poses_prep)//2:]"
   ]
  },
  {
   "cell_type": "code",
   "execution_count": 15,
   "metadata": {},
   "outputs": [
    {
     "data": {
      "text/plain": [
       "(18, 18)"
      ]
     },
     "execution_count": 15,
     "metadata": {},
     "output_type": "execute_result"
    }
   ],
   "source": [
    "len(query_poses_prep), len(matching_poses_prep)"
   ]
  },
  {
   "cell_type": "code",
   "execution_count": 16,
   "metadata": {},
   "outputs": [
    {
     "name": "stdout",
     "output_type": "stream",
     "text": [
      "{0: 'aespa2_motion1', 1: 'aespa2_motion2', 2: 'aespa2_motion3', 3: 'aespa2_motion4', 4: 'aespa2_motion5', 5: 'bts2_motion3', 6: 'bts2_motion4', 7: 'itzy6_motion1', 8: 'itzy6_motion2', 9: 'itzy6_motion3', 10: 'jenny2_motion1', 11: 'jenny2_motion3', 12: 'jenny2_motion4', 13: 'twice3_motion1', 14: 'twice3_motion2', 15: 'twice3_motion3', 16: 'twice3_motion4', 17: 'twice3_motion5', 18: 'aespa4_motion1', 19: 'aespa4_motion2', 20: 'aespa4_motion3', 21: 'aespa4_motion4', 22: 'aespa4_motion5', 23: 'bts3_motion3', 24: 'bts3_motion4', 25: 'itzy7_motion1', 26: 'itzy7_motion2', 27: 'itzy7_motion3', 28: 'jenny4_motion1', 29: 'jenny4_motion3', 30: 'jenny4_motion4', 31: 'twice5_motion1', 32: 'twice5_motion2', 33: 'twice5_motion3', 34: 'twice5_motion4', 35: 'twice5_motion5'}\n"
     ]
    }
   ],
   "source": [
    "print(idx2vidname)"
   ]
  },
  {
   "cell_type": "markdown",
   "metadata": {},
   "source": [
    "### test1\n",
    "* image similarity based search\n",
    "    * sample interval = 10 / 20\n",
    "* using weighted distance"
   ]
  },
  {
   "cell_type": "code",
   "execution_count": 17,
   "metadata": {},
   "outputs": [
    {
     "data": {
      "text/plain": [
       "((255, 53), (3968, 53))"
      ]
     },
     "execution_count": 17,
     "metadata": {},
     "output_type": "execute_result"
    }
   ],
   "source": [
    "queries = query_poses_prep_norm.copy()\n",
    "matchings = matching_poses_prep_norm.copy()\n",
    "\n",
    "data = np.concatenate(matchings)\n",
    "queries[0].shape, data.shape"
   ]
  },
  {
   "cell_type": "code",
   "execution_count": 18,
   "metadata": {},
   "outputs": [],
   "source": [
    "tree = vptree.VPTree(data, weighted_distance_matching)"
   ]
  },
  {
   "cell_type": "code",
   "execution_count": 19,
   "metadata": {},
   "outputs": [
    {
     "data": {
      "text/plain": [
       "[('itzy7_motion1', 0.0163106191086391),\n",
       " ('itzy7_motion1', 0.017181936129846333),\n",
       " ('itzy7_motion1', 0.022039177800687797),\n",
       " ('aespa4_motion5', 0.022569747087311905),\n",
       " ('aespa4_motion5', 0.023111997647237727),\n",
       " ('aespa4_motion5', 0.023636559497211378),\n",
       " ('aespa4_motion5', 0.023974958604817898),\n",
       " ('aespa4_motion5', 0.024299367799390313),\n",
       " ('aespa4_motion5', 0.024360090464435543),\n",
       " ('aespa4_motion5', 0.02477115026455092)]"
      ]
     },
     "execution_count": 19,
     "metadata": {},
     "output_type": "execute_result"
    }
   ],
   "source": [
    "result = tree.get_n_nearest_neighbors(queries[0][0], 10)\n",
    "summarize_vptree_result(result, idx2vidname)"
   ]
  },
  {
   "cell_type": "code",
   "execution_count": 20,
   "metadata": {},
   "outputs": [
    {
     "name": "stdout",
     "output_type": "stream",
     "text": [
      "aespa2_motion1\n"
     ]
    },
    {
     "data": {
      "text/plain": [
       "[('aespa4_motion1', 7.31637879831445e+54),\n",
       " ('itzy7_motion1', 1.1742926069764768e+24),\n",
       " ('aespa4_motion5', 5.878308852224695e+19),\n",
       " ('bts3_motion4', 145842159668998.72),\n",
       " ('twice5_motion2', 3715555.296690578)]"
      ]
     },
     "execution_count": 20,
     "metadata": {},
     "output_type": "execute_result"
    }
   ],
   "source": [
    "# query = aespa motion1\n",
    "K = 0\n",
    "print(idx2vidname[K])\n",
    "vptree_search(tree, idx2vidname, queries[K], 0, len(queries[K]), 20, 5)"
   ]
  },
  {
   "cell_type": "code",
   "execution_count": 281,
   "metadata": {},
   "outputs": [
    {
     "name": "stdout",
     "output_type": "stream",
     "text": [
      "aespa2_motion2\n"
     ]
    },
    {
     "data": {
      "text/plain": [
       "[('aespa4_motion2', 7.221626800912986e+35),\n",
       " ('aespa4_motion4', 6.996876634828465e+18),\n",
       " ('twice5_motion4', 2.1266225359531986e+18),\n",
       " ('bts3_motion3', 562193656122.432),\n",
       " ('aespa4_motion1', 114357712400.57283)]"
      ]
     },
     "execution_count": 281,
     "metadata": {},
     "output_type": "execute_result"
    }
   ],
   "source": [
    "# query = twice3 motion2\n",
    "K = 1\n",
    "print(idx2vidname[K])\n",
    "vptree_search(tree, idx2vidname, queries[K], 0, len(queries[K]), 20, 5)"
   ]
  },
  {
   "cell_type": "code",
   "execution_count": 282,
   "metadata": {},
   "outputs": [
    {
     "name": "stdout",
     "output_type": "stream",
     "text": [
      "aespa2_motion3\n"
     ]
    },
    {
     "data": {
      "text/plain": [
       "[('aespa4_motion3', 6.051035239919722e+72),\n",
       " ('bts3_motion3', 1.0391512841075747e+19),\n",
       " ('aespa4_motion5', 171215823067737.25),\n",
       " ('bts3_motion4', 8678708336.958443),\n",
       " ('twice5_motion2', 1998197.0280777907)]"
      ]
     },
     "execution_count": 282,
     "metadata": {},
     "output_type": "execute_result"
    }
   ],
   "source": [
    "# query = twice3 motion3\n",
    "K = 2\n",
    "print(idx2vidname[K])\n",
    "vptree_search(tree, idx2vidname, queries[K], 0, len(queries[K]), 20, 5)"
   ]
  },
  {
   "cell_type": "code",
   "execution_count": 308,
   "metadata": {},
   "outputs": [
    {
     "name": "stdout",
     "output_type": "stream",
     "text": [
      "aespa2_motion4\n"
     ]
    },
    {
     "data": {
      "text/plain": [
       "[('aespa4_motion4', 2.5497784408625294e+187),\n",
       " ('twice5_motion4', 4.8641103289991896e+16),\n",
       " ('twice5_motion3', 40720867375173.48),\n",
       " ('bts3_motion3', 4553569034568.973),\n",
       " ('aespa4_motion1', 206387366.78286216)]"
      ]
     },
     "execution_count": 308,
     "metadata": {},
     "output_type": "execute_result"
    }
   ],
   "source": [
    "# query = twice3 motion4\n",
    "K = 3\n",
    "print(idx2vidname[K])\n",
    "vptree_search(tree, idx2vidname, queries[K], 0, len(queries[K]), 10, 5)"
   ]
  },
  {
   "cell_type": "code",
   "execution_count": 333,
   "metadata": {},
   "outputs": [
    {
     "name": "stdout",
     "output_type": "stream",
     "text": [
      "aespa2_motion5\n"
     ]
    },
    {
     "data": {
      "text/plain": [
       "[('jenny4_motion3', 4.539332528016639e+46),\n",
       " ('aespa4_motion5', 1.0160159258767425e+40),\n",
       " ('aespa4_motion1', 2.734316823468541e+23),\n",
       " ('bts3_motion3', 1.2868500787573294e+16),\n",
       " ('bts3_motion4', 152316771010.42093)]"
      ]
     },
     "execution_count": 333,
     "metadata": {},
     "output_type": "execute_result"
    }
   ],
   "source": [
    "K = 4\n",
    "print(idx2vidname[K])\n",
    "vptree_search(tree, idx2vidname, queries[K], 0, len(queries[K]), 10, 5)"
   ]
  },
  {
   "cell_type": "code",
   "execution_count": 288,
   "metadata": {},
   "outputs": [
    {
     "name": "stdout",
     "output_type": "stream",
     "text": [
      "bts2_motion3\n"
     ]
    },
    {
     "data": {
      "text/plain": [
       "[('bts3_motion3', 5.736868616215389e+111),\n",
       " ('bts3_motion4', 2.7159422006856447e+29),\n",
       " ('itzy7_motion2', 138984607841906.38),\n",
       " ('twice5_motion3', 291794408.95510614),\n",
       " ('itzy7_motion1', 7599925.143336248)]"
      ]
     },
     "execution_count": 288,
     "metadata": {},
     "output_type": "execute_result"
    }
   ],
   "source": [
    "K = 5\n",
    "print(idx2vidname[K])\n",
    "vptree_search(tree, idx2vidname, queries[K], 0, len(queries[K]), 20, 5)"
   ]
  },
  {
   "cell_type": "code",
   "execution_count": 289,
   "metadata": {},
   "outputs": [
    {
     "name": "stdout",
     "output_type": "stream",
     "text": [
      "bts2_motion4\n"
     ]
    },
    {
     "data": {
      "text/plain": [
       "[('bts3_motion4', 1.4990696134648611e+65),\n",
       " ('twice5_motion3', 730195809.851285),\n",
       " ('aespa4_motion1', 3355340.5943683945),\n",
       " ('aespa4_motion4', 617388.3939550956),\n",
       " ('aespa4_motion5', 89152.43298127613)]"
      ]
     },
     "execution_count": 289,
     "metadata": {},
     "output_type": "execute_result"
    }
   ],
   "source": [
    "K = 6\n",
    "print(idx2vidname[K])\n",
    "vptree_search(tree, idx2vidname, queries[K], 0, len(queries[K]), 20, 5)"
   ]
  },
  {
   "cell_type": "code",
   "execution_count": 337,
   "metadata": {},
   "outputs": [
    {
     "name": "stdout",
     "output_type": "stream",
     "text": [
      "itzy6_motion1\n"
     ]
    },
    {
     "data": {
      "text/plain": [
       "[('itzy7_motion1', 6.092340558149975e+21),\n",
       " ('aespa4_motion2', 1636191665297367.2),\n",
       " ('aespa4_motion4', 96842960540627.4),\n",
       " ('jenny4_motion3', 93434141587889.78),\n",
       " ('itzy7_motion3', 170798008889.59048)]"
      ]
     },
     "execution_count": 337,
     "metadata": {},
     "output_type": "execute_result"
    }
   ],
   "source": [
    "K = 7\n",
    "print(idx2vidname[K])\n",
    "vptree_search(tree, idx2vidname, queries[K], 0, len(queries[K]), 15, 5)"
   ]
  },
  {
   "cell_type": "code",
   "execution_count": 292,
   "metadata": {},
   "outputs": [
    {
     "name": "stdout",
     "output_type": "stream",
     "text": [
      "itzy6_motion2\n"
     ]
    },
    {
     "data": {
      "text/plain": [
       "[('itzy7_motion2', 4.6113138597950354e+55),\n",
       " ('aespa4_motion3', 4.2884345690572814e+29),\n",
       " ('bts3_motion3', 126636652661021.39),\n",
       " ('jenny4_motion3', 352666105130.04315),\n",
       " ('twice5_motion4', 3525523409.9309406)]"
      ]
     },
     "execution_count": 292,
     "metadata": {},
     "output_type": "execute_result"
    }
   ],
   "source": [
    "K = 8\n",
    "print(idx2vidname[K])\n",
    "vptree_search(tree, idx2vidname, queries[K], 0, len(queries[K]), 10, 5)"
   ]
  },
  {
   "cell_type": "code",
   "execution_count": 293,
   "metadata": {},
   "outputs": [
    {
     "name": "stdout",
     "output_type": "stream",
     "text": [
      "itzy6_motion2\n"
     ]
    },
    {
     "data": {
      "text/plain": [
       "[('itzy7_motion2', 4.6113138597950354e+55),\n",
       " ('aespa4_motion3', 4.2884345690572814e+29),\n",
       " ('bts3_motion3', 126636652661021.39),\n",
       " ('jenny4_motion3', 352666105130.04315),\n",
       " ('twice5_motion4', 3525523409.9309406)]"
      ]
     },
     "execution_count": 293,
     "metadata": {},
     "output_type": "execute_result"
    }
   ],
   "source": [
    "K = 8\n",
    "print(idx2vidname[K])\n",
    "vptree_search(tree, idx2vidname, queries[K], 0, len(queries[K]), 10, 5)"
   ]
  },
  {
   "cell_type": "code",
   "execution_count": 294,
   "metadata": {},
   "outputs": [
    {
     "name": "stdout",
     "output_type": "stream",
     "text": [
      "itzy6_motion3\n"
     ]
    },
    {
     "data": {
      "text/plain": [
       "[('itzy7_motion3', 1.0303943482975957e+59),\n",
       " ('jenny4_motion1', 2.1466726658029142e+33),\n",
       " ('aespa4_motion3', 1.3127174685588696e+28),\n",
       " ('itzy7_motion2', 1.58857304223744e+23),\n",
       " ('bts3_motion3', 5.718415811275394e+20)]"
      ]
     },
     "execution_count": 294,
     "metadata": {},
     "output_type": "execute_result"
    }
   ],
   "source": [
    "K = 9\n",
    "print(idx2vidname[K])\n",
    "vptree_search(tree, idx2vidname, queries[K], 0, len(queries[K]), 10, 5)"
   ]
  },
  {
   "cell_type": "code",
   "execution_count": 295,
   "metadata": {},
   "outputs": [
    {
     "name": "stdout",
     "output_type": "stream",
     "text": [
      "jenny2_motion1\n"
     ]
    },
    {
     "data": {
      "text/plain": [
       "[('jenny4_motion1', 1.7342914262150194e+165),\n",
       " ('aespa4_motion4', 8.45022164705767e+47),\n",
       " ('twice5_motion4', 4.9957326614080275e+25),\n",
       " ('itzy7_motion1', 701108144.2702588),\n",
       " ('bts3_motion3', 29207.727781761412)]"
      ]
     },
     "execution_count": 295,
     "metadata": {},
     "output_type": "execute_result"
    }
   ],
   "source": [
    "K = 10\n",
    "print(idx2vidname[K])\n",
    "vptree_search(tree, idx2vidname, queries[K], 0, len(queries[K]), 10, 5)"
   ]
  },
  {
   "cell_type": "code",
   "execution_count": 296,
   "metadata": {},
   "outputs": [
    {
     "name": "stdout",
     "output_type": "stream",
     "text": [
      "jenny2_motion3\n"
     ]
    },
    {
     "data": {
      "text/plain": [
       "[('jenny4_motion3', 5.557793664664684e+97),\n",
       " ('aespa4_motion1', 4.605410297015384e+51),\n",
       " ('aespa4_motion3', 1.0338947958152246e+34),\n",
       " ('itzy7_motion1', 3.916525984296005e+19),\n",
       " ('aespa4_motion5', 2.506378988892386e+16)]"
      ]
     },
     "execution_count": 296,
     "metadata": {},
     "output_type": "execute_result"
    }
   ],
   "source": [
    "K = 11\n",
    "print(idx2vidname[K])\n",
    "vptree_search(tree, idx2vidname, queries[K], 0, len(queries[K]), 10, 5)"
   ]
  },
  {
   "cell_type": "code",
   "execution_count": 297,
   "metadata": {},
   "outputs": [
    {
     "name": "stdout",
     "output_type": "stream",
     "text": [
      "jenny2_motion4\n"
     ]
    },
    {
     "data": {
      "text/plain": [
       "[('jenny4_motion4', 4.0773885317502864e+51),\n",
       " ('twice5_motion4', 1.4170953210713215e+36),\n",
       " ('aespa4_motion1', 5.4751306106529304e+20),\n",
       " ('aespa4_motion2', 7.41654920171748e+17),\n",
       " ('aespa4_motion4', 116526044914432.89)]"
      ]
     },
     "execution_count": 297,
     "metadata": {},
     "output_type": "execute_result"
    }
   ],
   "source": [
    "K = 12\n",
    "print(idx2vidname[K])\n",
    "vptree_search(tree, idx2vidname, queries[K], 0, len(queries[K]), 10, 5)"
   ]
  },
  {
   "cell_type": "code",
   "execution_count": 298,
   "metadata": {},
   "outputs": [
    {
     "name": "stdout",
     "output_type": "stream",
     "text": [
      "twice3_motion1\n"
     ]
    },
    {
     "data": {
      "text/plain": [
       "[('twice5_motion1', 3.4279469287229487e+164),\n",
       " ('twice5_motion2', 25959171945.209705),\n",
       " ('bts3_motion3', 11274727258.934921),\n",
       " ('aespa4_motion4', 139924608.8427817),\n",
       " ('jenny4_motion1', 170.83985284086276)]"
      ]
     },
     "execution_count": 298,
     "metadata": {},
     "output_type": "execute_result"
    }
   ],
   "source": [
    "K = 13\n",
    "print(idx2vidname[K])\n",
    "vptree_search(tree, idx2vidname, queries[K], 0, len(queries[K]), 10, 5)"
   ]
  },
  {
   "cell_type": "code",
   "execution_count": 299,
   "metadata": {},
   "outputs": [
    {
     "name": "stdout",
     "output_type": "stream",
     "text": [
      "twice3_motion2\n"
     ]
    },
    {
     "data": {
      "text/plain": [
       "[('twice5_motion2', 4.0084466128173975e+105),\n",
       " ('aespa4_motion2', 1.8465089375142115e+26),\n",
       " ('itzy7_motion3', 2.122189497357866e+20),\n",
       " ('twice5_motion4', 150047216196416.66),\n",
       " ('bts3_motion3', 44360213321267.92)]"
      ]
     },
     "execution_count": 299,
     "metadata": {},
     "output_type": "execute_result"
    }
   ],
   "source": [
    "K = 14\n",
    "print(idx2vidname[K])\n",
    "vptree_search(tree, idx2vidname, queries[K], 0, len(queries[K]), 10, 5)"
   ]
  },
  {
   "cell_type": "code",
   "execution_count": 300,
   "metadata": {},
   "outputs": [
    {
     "name": "stdout",
     "output_type": "stream",
     "text": [
      "twice3_motion3\n"
     ]
    },
    {
     "data": {
      "text/plain": [
       "[('twice5_motion3', 1.083744470592202e+78),\n",
       " ('jenny4_motion1', 6.956034810000515e+30),\n",
       " ('aespa4_motion3', 1.7404907764026046e+29),\n",
       " ('aespa4_motion2', 3.611730967841181e+24),\n",
       " ('bts3_motion3', 2.4841222498909665e+18)]"
      ]
     },
     "execution_count": 300,
     "metadata": {},
     "output_type": "execute_result"
    }
   ],
   "source": [
    "K = 15\n",
    "print(idx2vidname[K])\n",
    "vptree_search(tree, idx2vidname, queries[K], 0, len(queries[K]), 10, 5)"
   ]
  },
  {
   "cell_type": "code",
   "execution_count": 301,
   "metadata": {},
   "outputs": [
    {
     "name": "stdout",
     "output_type": "stream",
     "text": [
      "twice3_motion4\n"
     ]
    },
    {
     "data": {
      "text/plain": [
       "[('twice5_motion4', 2.11841125449594e+185),\n",
       " ('itzy7_motion3', 1.1152003574830555e+31),\n",
       " ('jenny4_motion1', 8532481226653958.0),\n",
       " ('jenny4_motion4', 15677099.397143466),\n",
       " ('aespa4_motion4', 2296205.673233328)]"
      ]
     },
     "execution_count": 301,
     "metadata": {},
     "output_type": "execute_result"
    }
   ],
   "source": [
    "K = 16\n",
    "print(idx2vidname[K])\n",
    "vptree_search(tree, idx2vidname, queries[K], 0, len(queries[K]), 10, 5)"
   ]
  },
  {
   "cell_type": "code",
   "execution_count": 302,
   "metadata": {},
   "outputs": [
    {
     "name": "stdout",
     "output_type": "stream",
     "text": [
      "twice3_motion5\n"
     ]
    },
    {
     "data": {
      "text/plain": [
       "[('twice5_motion5', 1.3421471465582619e+101),\n",
       " ('aespa4_motion2', 67181248460.362625),\n",
       " ('jenny4_motion1', 455730181.4161769),\n",
       " ('twice5_motion3', 160908465.58272132),\n",
       " ('itzy7_motion3', 31424.653514256934)]"
      ]
     },
     "execution_count": 302,
     "metadata": {},
     "output_type": "execute_result"
    }
   ],
   "source": [
    "K = 17\n",
    "print(idx2vidname[K])\n",
    "vptree_search(tree, idx2vidname, queries[K], 0, len(queries[K]), 10, 5)"
   ]
  },
  {
   "cell_type": "code",
   "execution_count": null,
   "metadata": {},
   "outputs": [],
   "source": []
  },
  {
   "cell_type": "code",
   "execution_count": null,
   "metadata": {},
   "outputs": [],
   "source": []
  },
  {
   "cell_type": "markdown",
   "metadata": {},
   "source": [
    "### video sequence search\n",
    "* stretch frames\n",
    "* euc-cosine distance"
   ]
  },
  {
   "cell_type": "code",
   "execution_count": 338,
   "metadata": {},
   "outputs": [],
   "source": [
    "def Frame_extraction(data, target):     ##넓게 들어온 조인트 데이터를 target 값으로 축소합니다.\n",
    "    output_data = np.zeros((target, data.shape[1], data.shape[2]))\n",
    "    Interval = (len(data) // target)\n",
    "\n",
    "    for count,i in enumerate(range(0,len(data), Interval)): #일정한 프레임 추출을 위함.\n",
    "        if count == target: break\n",
    "        output_data[count] = data[i]\n",
    "    return output_data\n",
    "\n",
    "def Stretch_Frames(data, target = 256, joint_num = 17):  #이 함수를 호출하면 위 Frame_extraction 를 자동으로 호출합니다.\n",
    "                                                #조인트 와 만들고 싶은 크기 를 입력합니다.\n",
    "      #output 값을 생성함.\n",
    "    index = np.array([data[..., -1][0]] * target).reshape(target, 1)\n",
    "    data = data[..., :joint_num * 2].reshape(-1, joint_num, 2)\n",
    "    # print(index.shape)\n",
    "    \n",
    "    output_data = np.zeros((target, data.shape[1], data.shape[2]))\n",
    "    shapes = data.shape\n",
    "    result = []\n",
    "    for i in range(0,len(data)):\n",
    "        if i == len(data)-1:\n",
    "            break\n",
    "        if i == len(data) -2 :\n",
    "            data_linspace = np.linspace(data[i],data[i+1],target,endpoint=True)\n",
    "        else:\n",
    "            data_linspace = np.linspace(data[i],data[i+1],target,endpoint=False)\n",
    "        result.append(data_linspace)\n",
    "\n",
    "    result = np.reshape(result,(-1,shapes[1], shapes[2]))\n",
    "    output_data = Frame_extraction(result,target).reshape(-1, shapes[1]*shapes[2])\n",
    "    # print(output_data.shape, index.shape)\n",
    "    output_data = np.concatenate([output_data, index], axis=1)\n",
    "    return output_data\n",
    "\n",
    "def euc_cosine_dist(p1, p2):\n",
    "    cosine_sim = cosine(p1[...,:34].flatten(), p2[...,:34].flatten())\n",
    "    distance = 2 * (1 - cosine_sim)\n",
    "    return np.sqrt(1 - distance)    "
   ]
  },
  {
   "cell_type": "code",
   "execution_count": 339,
   "metadata": {},
   "outputs": [
    {
     "data": {
      "text/plain": [
       "((256, 35), (18, 256, 35))"
      ]
     },
     "execution_count": 339,
     "metadata": {},
     "output_type": "execute_result"
    }
   ],
   "source": [
    "queries = query_poses_prep_norm.copy()\n",
    "matchings = matching_poses_prep_norm.copy()\n",
    "\n",
    "queries = [Stretch_Frames(q) for q in queries]\n",
    "matchings = [Stretch_Frames(m) for m in matchings]\n",
    "\n",
    "data = np.stack(matchings, axis=0)\n",
    "queries[0].shape, data.shape"
   ]
  },
  {
   "cell_type": "code",
   "execution_count": 340,
   "metadata": {},
   "outputs": [],
   "source": [
    "# tree = vptree.VPTree(matchings, cosine_dist_xy_flatten)\n",
    "tree = vptree.VPTree(matchings, simple_euc)"
   ]
  },
  {
   "cell_type": "code",
   "execution_count": 341,
   "metadata": {},
   "outputs": [
    {
     "name": "stdout",
     "output_type": "stream",
     "text": [
      "aespa2_motion1\n"
     ]
    },
    {
     "data": {
      "text/plain": [
       "[('aespa4_motion1', 104.95952366507903),\n",
       " ('aespa4_motion2', 110.80112785378873),\n",
       " ('aespa4_motion3', 116.63582056178087),\n",
       " ('aespa4_motion4', 122.4662663003796),\n",
       " ('aespa4_motion5', 128.2835236258827),\n",
       " ('bts3_motion3', 134.11922645118537),\n",
       " ('bts3_motion4', 139.95235172527893),\n",
       " ('itzy7_motion1', 145.7799898928117),\n",
       " ('itzy7_motion2', 151.61325173018784),\n",
       " ('itzy7_motion3', 157.4463336983324)]"
      ]
     },
     "execution_count": 341,
     "metadata": {},
     "output_type": "execute_result"
    }
   ],
   "source": [
    "K = 0\n",
    "print(idx2vidname[K])\n",
    "result = tree.get_n_nearest_neighbors(queries[K], 10)\n",
    "summarize_vptree_result(result, idx2vidname)"
   ]
  },
  {
   "cell_type": "code",
   "execution_count": 343,
   "metadata": {},
   "outputs": [
    {
     "name": "stdout",
     "output_type": "stream",
     "text": [
      "aespa2_motion2\n"
     ]
    },
    {
     "data": {
      "text/plain": [
       "[('aespa4_motion1', 99.13852575961975),\n",
       " ('aespa4_motion2', 104.9612520720365),\n",
       " ('aespa4_motion3', 110.79417921247551),\n",
       " ('aespa4_motion4', 116.6373197489813),\n",
       " ('aespa4_motion5', 122.4604769750368),\n",
       " ('bts3_motion3', 128.29139101881015),\n",
       " ('bts3_motion4', 134.12391461624273),\n",
       " ('itzy7_motion1', 139.9514905180387),\n",
       " ('itzy7_motion2', 145.78154031867683),\n",
       " ('itzy7_motion3', 151.60947310952153)]"
      ]
     },
     "execution_count": 343,
     "metadata": {},
     "output_type": "execute_result"
    }
   ],
   "source": [
    "K = 1\n",
    "print(idx2vidname[K])\n",
    "result = tree.get_n_nearest_neighbors(queries[K], 10)\n",
    "summarize_vptree_result(result, idx2vidname)"
   ]
  },
  {
   "cell_type": "code",
   "execution_count": 344,
   "metadata": {},
   "outputs": [
    {
     "name": "stdout",
     "output_type": "stream",
     "text": [
      "aespa2_motion3\n"
     ]
    },
    {
     "data": {
      "text/plain": [
       "[('aespa4_motion1', 93.30661667367042),\n",
       " ('aespa4_motion2', 99.13420300245605),\n",
       " ('aespa4_motion3', 104.95986344508785),\n",
       " ('aespa4_motion4', 110.8116487888082),\n",
       " ('aespa4_motion5', 116.62941916496702),\n",
       " ('bts3_motion3', 122.45957638473448),\n",
       " ('bts3_motion4', 128.29465600435995),\n",
       " ('itzy7_motion1', 134.12095040128952),\n",
       " ('itzy7_motion2', 139.95183427568173),\n",
       " ('itzy7_motion3', 145.7815641789483)]"
      ]
     },
     "execution_count": 344,
     "metadata": {},
     "output_type": "execute_result"
    }
   ],
   "source": [
    "K = 2\n",
    "print(idx2vidname[K])\n",
    "result = tree.get_n_nearest_neighbors(queries[K], 10)\n",
    "summarize_vptree_result(result, idx2vidname)"
   ]
  },
  {
   "cell_type": "code",
   "execution_count": 345,
   "metadata": {},
   "outputs": [
    {
     "name": "stdout",
     "output_type": "stream",
     "text": [
      "aespa2_motion4\n"
     ]
    },
    {
     "data": {
      "text/plain": [
       "[('aespa4_motion1', 87.4759341203679),\n",
       " ('aespa4_motion2', 93.30493694142596),\n",
       " ('aespa4_motion3', 99.14442695824947),\n",
       " ('aespa4_motion4', 104.96691753423434),\n",
       " ('aespa4_motion5', 110.79571166995687),\n",
       " ('bts3_motion3', 116.6258107195346),\n",
       " ('bts3_motion4', 122.45999257484254),\n",
       " ('itzy7_motion1', 128.2902799695813),\n",
       " ('itzy7_motion2', 134.11662421519515),\n",
       " ('itzy7_motion3', 139.94978570977818)]"
      ]
     },
     "execution_count": 345,
     "metadata": {},
     "output_type": "execute_result"
    }
   ],
   "source": [
    "K = 3\n",
    "print(idx2vidname[K])\n",
    "result = tree.get_n_nearest_neighbors(queries[K], 10)\n",
    "summarize_vptree_result(result, idx2vidname)"
   ]
  },
  {
   "cell_type": "code",
   "execution_count": 346,
   "metadata": {},
   "outputs": [
    {
     "name": "stdout",
     "output_type": "stream",
     "text": [
      "aespa2_motion5\n"
     ]
    },
    {
     "data": {
      "text/plain": [
       "[('aespa4_motion1', 81.64670269689681),\n",
       " ('aespa4_motion2', 87.47815508111202),\n",
       " ('aespa4_motion3', 93.30956071970488),\n",
       " ('aespa4_motion4', 99.14802608709158),\n",
       " ('aespa4_motion5', 104.96721658133212),\n",
       " ('bts3_motion3', 110.79778100709734),\n",
       " ('bts3_motion4', 116.63242191527924),\n",
       " ('itzy7_motion1', 122.46027063420392),\n",
       " ('itzy7_motion2', 128.2892806171573),\n",
       " ('itzy7_motion3', 134.12210772948356)]"
      ]
     },
     "execution_count": 346,
     "metadata": {},
     "output_type": "execute_result"
    }
   ],
   "source": [
    "K = 4\n",
    "print(idx2vidname[K])\n",
    "result = tree.get_n_nearest_neighbors(queries[K], 10)\n",
    "summarize_vptree_result(result, idx2vidname)"
   ]
  },
  {
   "cell_type": "code",
   "execution_count": null,
   "metadata": {},
   "outputs": [],
   "source": []
  },
  {
   "cell_type": "markdown",
   "metadata": {},
   "source": [
    "### feature extraction (svd)"
   ]
  },
  {
   "cell_type": "code",
   "execution_count": 347,
   "metadata": {},
   "outputs": [],
   "source": [
    "# (num_frames, 34) -> (34,)\n",
    "def extract_eigen_svd(pose_list):\n",
    "    poses_svd = []\n",
    "    for pose in pose_list:\n",
    "        pose_xy = pose[...,:34]\n",
    "        pose_index = pose[...,-1][0]\n",
    "        pose_svd = extract_feature_svd(pose_xy)    \n",
    "        pose_svd_with_index = np.concatenate([pose_svd, np.array([pose_index])])\n",
    "        poses_svd.append(pose_svd_with_index)\n",
    "    return poses_svd"
   ]
  },
  {
   "cell_type": "code",
   "execution_count": 348,
   "metadata": {},
   "outputs": [],
   "source": [
    "def euc_dist(v1, v2):\n",
    "    return np.linalg.norm(v1 - v2)"
   ]
  },
  {
   "cell_type": "code",
   "execution_count": 350,
   "metadata": {},
   "outputs": [
    {
     "data": {
      "text/plain": [
       "((35,), (18, 35))"
      ]
     },
     "execution_count": 350,
     "metadata": {},
     "output_type": "execute_result"
    }
   ],
   "source": [
    "queries = extract_eigen_svd(query_poses_prep_norm.copy())\n",
    "matchings = extract_eigen_svd(matching_poses_prep_norm.copy())\n",
    "\n",
    "data = np.stack(matchings, axis=0)\n",
    "queries[0].shape, data.shape"
   ]
  },
  {
   "cell_type": "code",
   "execution_count": 351,
   "metadata": {},
   "outputs": [],
   "source": [
    "tree = vptree.VPTree(matchings, simple_minus)"
   ]
  },
  {
   "cell_type": "code",
   "execution_count": 353,
   "metadata": {},
   "outputs": [
    {
     "name": "stdout",
     "output_type": "stream",
     "text": [
      "aespa2_motion1\n"
     ]
    },
    {
     "data": {
      "text/plain": [
       "[('aespa4_motion1', 1.1333219488659996),\n",
       " ('twice5_motion3', 1.6958741515955942),\n",
       " ('aespa4_motion4', 1.7295573718850856),\n",
       " ('aespa4_motion3', 1.7779662570541088),\n",
       " ('itzy7_motion3', 1.8019231597892917)]"
      ]
     },
     "execution_count": 353,
     "metadata": {},
     "output_type": "execute_result"
    }
   ],
   "source": [
    "K = 0\n",
    "print(idx2vidname[K])\n",
    "result = tree.get_n_nearest_neighbors(queries[K], 5)\n",
    "summarize_vptree_result(result, idx2vidname)"
   ]
  },
  {
   "cell_type": "code",
   "execution_count": 354,
   "metadata": {},
   "outputs": [
    {
     "name": "stdout",
     "output_type": "stream",
     "text": [
      "aespa2_motion2\n"
     ]
    },
    {
     "data": {
      "text/plain": [
       "[('bts3_motion4', 0.8963893700030975),\n",
       " ('twice5_motion3', 1.092208058550895),\n",
       " ('aespa4_motion2', 1.2187549229329024),\n",
       " ('aespa4_motion1', 1.6416389700206324),\n",
       " ('aespa4_motion4', 2.019439762485256)]"
      ]
     },
     "execution_count": 354,
     "metadata": {},
     "output_type": "execute_result"
    }
   ],
   "source": [
    "K = 1\n",
    "print(idx2vidname[K])\n",
    "result = tree.get_n_nearest_neighbors(queries[K], 5)\n",
    "summarize_vptree_result(result, idx2vidname)"
   ]
  },
  {
   "cell_type": "code",
   "execution_count": 355,
   "metadata": {},
   "outputs": [
    {
     "name": "stdout",
     "output_type": "stream",
     "text": [
      "aespa2_motion3\n"
     ]
    },
    {
     "data": {
      "text/plain": [
       "[('aespa4_motion3', 1.1098668543076422),\n",
       " ('aespa4_motion1', 1.4726505204894227),\n",
       " ('itzy7_motion3', 1.4955269076038418),\n",
       " ('twice5_motion4', 1.640826450124457),\n",
       " ('twice5_motion3', 1.968841124075484)]"
      ]
     },
     "execution_count": 355,
     "metadata": {},
     "output_type": "execute_result"
    }
   ],
   "source": [
    "K = 2\n",
    "print(idx2vidname[K])\n",
    "result = tree.get_n_nearest_neighbors(queries[K], 5)\n",
    "summarize_vptree_result(result, idx2vidname)"
   ]
  },
  {
   "cell_type": "code",
   "execution_count": 356,
   "metadata": {},
   "outputs": [
    {
     "name": "stdout",
     "output_type": "stream",
     "text": [
      "aespa2_motion4\n"
     ]
    },
    {
     "data": {
      "text/plain": [
       "[('aespa4_motion4', 1.4385773921418397),\n",
       " ('aespa4_motion1', 1.7058568355907642),\n",
       " ('itzy7_motion3', 2.5689706334914093),\n",
       " ('twice5_motion1', 2.706827187040447),\n",
       " ('bts3_motion4', 2.964825348836486)]"
      ]
     },
     "execution_count": 356,
     "metadata": {},
     "output_type": "execute_result"
    }
   ],
   "source": [
    "K = 3\n",
    "print(idx2vidname[K])\n",
    "result = tree.get_n_nearest_neighbors(queries[K], 5)\n",
    "summarize_vptree_result(result, idx2vidname)"
   ]
  },
  {
   "cell_type": "code",
   "execution_count": 352,
   "metadata": {},
   "outputs": [
    {
     "name": "stdout",
     "output_type": "stream",
     "text": [
      "aespa2_motion5\n"
     ]
    },
    {
     "data": {
      "text/plain": [
       "[('aespa4_motion5', 1.2519013377615935),\n",
       " ('jenny4_motion4', 1.4047965742989117),\n",
       " ('itzy7_motion2', 1.8753620562669866),\n",
       " ('twice5_motion5', 3.5182200420266874),\n",
       " ('jenny4_motion1', 3.916053904890302)]"
      ]
     },
     "execution_count": 352,
     "metadata": {},
     "output_type": "execute_result"
    }
   ],
   "source": [
    "K = 4\n",
    "print(idx2vidname[K])\n",
    "result = tree.get_n_nearest_neighbors(queries[K], 5)\n",
    "summarize_vptree_result(result, idx2vidname)"
   ]
  },
  {
   "cell_type": "code",
   "execution_count": 357,
   "metadata": {},
   "outputs": [
    {
     "name": "stdout",
     "output_type": "stream",
     "text": [
      "bts2_motion3\n"
     ]
    },
    {
     "data": {
      "text/plain": [
       "[('bts3_motion3', 0.9120052266376858),\n",
       " ('twice5_motion4', 4.6310075482877195),\n",
       " ('aespa4_motion3', 5.015333839843431),\n",
       " ('itzy7_motion3', 5.769470038196541),\n",
       " ('aespa4_motion2', 6.266292974328964)]"
      ]
     },
     "execution_count": 357,
     "metadata": {},
     "output_type": "execute_result"
    }
   ],
   "source": [
    "K = 5\n",
    "print(idx2vidname[K])\n",
    "result = tree.get_n_nearest_neighbors(queries[K], 5)\n",
    "summarize_vptree_result(result, idx2vidname)"
   ]
  },
  {
   "cell_type": "code",
   "execution_count": 358,
   "metadata": {},
   "outputs": [
    {
     "name": "stdout",
     "output_type": "stream",
     "text": [
      "bts2_motion4\n"
     ]
    },
    {
     "data": {
      "text/plain": [
       "[('twice5_motion1', 1.9960540934964202),\n",
       " ('bts3_motion4', 2.1977592958090892),\n",
       " ('twice5_motion2', 2.446148520407171),\n",
       " ('twice5_motion3', 2.5701516753357367),\n",
       " ('jenny4_motion1', 2.7837431563943595)]"
      ]
     },
     "execution_count": 358,
     "metadata": {},
     "output_type": "execute_result"
    }
   ],
   "source": [
    "K = 6\n",
    "print(idx2vidname[K])\n",
    "result = tree.get_n_nearest_neighbors(queries[K], 5)\n",
    "summarize_vptree_result(result, idx2vidname)"
   ]
  },
  {
   "cell_type": "code",
   "execution_count": 359,
   "metadata": {},
   "outputs": [
    {
     "name": "stdout",
     "output_type": "stream",
     "text": [
      "itzy6_motion1\n"
     ]
    },
    {
     "data": {
      "text/plain": [
       "[('itzy7_motion1', 1.7009720145463074),\n",
       " ('twice5_motion5', 1.7213064253244779),\n",
       " ('itzy7_motion2', 1.9080577574520208),\n",
       " ('aespa4_motion5', 2.774457315120363),\n",
       " ('twice5_motion1', 3.004625570798528)]"
      ]
     },
     "execution_count": 359,
     "metadata": {},
     "output_type": "execute_result"
    }
   ],
   "source": [
    "K = 7\n",
    "print(idx2vidname[K])\n",
    "result = tree.get_n_nearest_neighbors(queries[K], 5)\n",
    "summarize_vptree_result(result, idx2vidname)"
   ]
  },
  {
   "cell_type": "code",
   "execution_count": 360,
   "metadata": {},
   "outputs": [
    {
     "name": "stdout",
     "output_type": "stream",
     "text": [
      "itzy6_motion2\n"
     ]
    },
    {
     "data": {
      "text/plain": [
       "[('itzy7_motion2', 1.1059376017541003),\n",
       " ('twice5_motion5', 1.4698028158887688),\n",
       " ('aespa4_motion5', 1.913504231699341),\n",
       " ('jenny4_motion4', 2.2957502838589123),\n",
       " ('itzy7_motion1', 2.415804292561346)]"
      ]
     },
     "execution_count": 360,
     "metadata": {},
     "output_type": "execute_result"
    }
   ],
   "source": [
    "K = 8\n",
    "print(idx2vidname[K])\n",
    "result = tree.get_n_nearest_neighbors(queries[K], 5)\n",
    "summarize_vptree_result(result, idx2vidname)"
   ]
  },
  {
   "cell_type": "code",
   "execution_count": 361,
   "metadata": {},
   "outputs": [
    {
     "name": "stdout",
     "output_type": "stream",
     "text": [
      "itzy6_motion3\n"
     ]
    },
    {
     "data": {
      "text/plain": [
       "[('twice5_motion4', 1.0926074935099401),\n",
       " ('aespa4_motion3', 1.2507422013442648),\n",
       " ('itzy7_motion3', 2.076640686339395),\n",
       " ('aespa4_motion2', 2.6184767511395934),\n",
       " ('aespa4_motion1', 3.0413922622949907)]"
      ]
     },
     "execution_count": 361,
     "metadata": {},
     "output_type": "execute_result"
    }
   ],
   "source": [
    "K = 9\n",
    "print(idx2vidname[K])\n",
    "result = tree.get_n_nearest_neighbors(queries[K], 5)\n",
    "summarize_vptree_result(result, idx2vidname)"
   ]
  },
  {
   "cell_type": "code",
   "execution_count": 362,
   "metadata": {},
   "outputs": [
    {
     "name": "stdout",
     "output_type": "stream",
     "text": [
      "jenny2_motion1\n"
     ]
    },
    {
     "data": {
      "text/plain": [
       "[('aespa4_motion4', 2.7932306846235653),\n",
       " ('twice5_motion3', 3.0253309423986834),\n",
       " ('twice5_motion1', 3.093523935435819),\n",
       " ('itzy7_motion3', 3.094620408186775),\n",
       " ('aespa4_motion3', 3.2765553269237637)]"
      ]
     },
     "execution_count": 362,
     "metadata": {},
     "output_type": "execute_result"
    }
   ],
   "source": [
    "K = 10\n",
    "print(idx2vidname[K])\n",
    "result = tree.get_n_nearest_neighbors(queries[K], 5)\n",
    "summarize_vptree_result(result, idx2vidname)"
   ]
  },
  {
   "cell_type": "code",
   "execution_count": 363,
   "metadata": {},
   "outputs": [
    {
     "name": "stdout",
     "output_type": "stream",
     "text": [
      "jenny2_motion3\n"
     ]
    },
    {
     "data": {
      "text/plain": [
       "[('aespa4_motion3', 1.066216146097822),\n",
       " ('itzy7_motion3', 1.820673075137119),\n",
       " ('twice5_motion4', 1.8899784184052406),\n",
       " ('aespa4_motion4', 2.049734492313276),\n",
       " ('aespa4_motion1', 2.3444856466297836)]"
      ]
     },
     "execution_count": 363,
     "metadata": {},
     "output_type": "execute_result"
    }
   ],
   "source": [
    "K = 11\n",
    "print(idx2vidname[K])\n",
    "result = tree.get_n_nearest_neighbors(queries[K], 5)\n",
    "summarize_vptree_result(result, idx2vidname)"
   ]
  },
  {
   "cell_type": "code",
   "execution_count": 364,
   "metadata": {},
   "outputs": [
    {
     "name": "stdout",
     "output_type": "stream",
     "text": [
      "jenny2_motion4\n"
     ]
    },
    {
     "data": {
      "text/plain": [
       "[('aespa4_motion5', 0.5861195820686127),\n",
       " ('itzy7_motion2', 1.493318687511419),\n",
       " ('jenny4_motion4', 1.562051057153692),\n",
       " ('jenny4_motion1', 3.3419514282072518),\n",
       " ('twice5_motion5', 3.453472513879693)]"
      ]
     },
     "execution_count": 364,
     "metadata": {},
     "output_type": "execute_result"
    }
   ],
   "source": [
    "K = 12\n",
    "print(idx2vidname[K])\n",
    "result = tree.get_n_nearest_neighbors(queries[K], 5)\n",
    "summarize_vptree_result(result, idx2vidname)"
   ]
  },
  {
   "cell_type": "code",
   "execution_count": 365,
   "metadata": {},
   "outputs": [
    {
     "name": "stdout",
     "output_type": "stream",
     "text": [
      "twice3_motion1\n"
     ]
    },
    {
     "data": {
      "text/plain": [
       "[('jenny4_motion1', 1.1931072276818937),\n",
       " ('twice5_motion1', 1.659354094046051),\n",
       " ('aespa4_motion5', 2.484018293861322),\n",
       " ('itzy7_motion2', 2.7107552124215095),\n",
       " ('jenny4_motion4', 2.9816460086512864)]"
      ]
     },
     "execution_count": 365,
     "metadata": {},
     "output_type": "execute_result"
    }
   ],
   "source": [
    "K = 13\n",
    "print(idx2vidname[K])\n",
    "result = tree.get_n_nearest_neighbors(queries[K], 5)\n",
    "summarize_vptree_result(result, idx2vidname)"
   ]
  },
  {
   "cell_type": "code",
   "execution_count": 366,
   "metadata": {},
   "outputs": [
    {
     "name": "stdout",
     "output_type": "stream",
     "text": [
      "twice3_motion2\n"
     ]
    },
    {
     "data": {
      "text/plain": [
       "[('twice5_motion2', 1.4813284819530501),\n",
       " ('twice5_motion3', 1.9261137675918258),\n",
       " ('twice5_motion1', 1.9507482139401158),\n",
       " ('aespa4_motion2', 2.3461242162257667),\n",
       " ('bts3_motion4', 2.3954977034279668)]"
      ]
     },
     "execution_count": 366,
     "metadata": {},
     "output_type": "execute_result"
    }
   ],
   "source": [
    "K = 14\n",
    "print(idx2vidname[K])\n",
    "result = tree.get_n_nearest_neighbors(queries[K], 5)\n",
    "summarize_vptree_result(result, idx2vidname)"
   ]
  },
  {
   "cell_type": "code",
   "execution_count": null,
   "metadata": {},
   "outputs": [],
   "source": []
  }
 ],
 "metadata": {
  "kernelspec": {
   "display_name": "Python 3.6.13 ('kapao')",
   "language": "python",
   "name": "python3"
  },
  "language_info": {
   "codemirror_mode": {
    "name": "ipython",
    "version": 3
   },
   "file_extension": ".py",
   "mimetype": "text/x-python",
   "name": "python",
   "nbconvert_exporter": "python",
   "pygments_lexer": "ipython3",
   "version": "3.6.13"
  },
  "orig_nbformat": 4,
  "vscode": {
   "interpreter": {
    "hash": "8f4a6fa2c16c0a25bc0d8731d784a211cabb4de4579e11ca5c5f9b787efc88d8"
   }
  }
 },
 "nbformat": 4,
 "nbformat_minor": 2
}
